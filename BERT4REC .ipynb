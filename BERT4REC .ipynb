{
 "cells": [
  {
   "cell_type": "code",
   "execution_count": 13,
   "id": "dfd0d546-9df6-4cea-8cf8-015b7dd546b5",
   "metadata": {},
   "outputs": [
    {
     "name": "stdout",
     "output_type": "stream",
     "text": [
      "Epoch 1/10\n"
     ]
    },
    {
     "name": "stderr",
     "output_type": "stream",
     "text": [
      "C:\\Users\\hankp\\anaconda3\\Lib\\site-packages\\keras\\src\\layers\\core\\embedding.py:90: UserWarning: Argument `input_length` is deprecated. Just remove it.\n",
      "  warnings.warn(\n"
     ]
    },
    {
     "name": "stdout",
     "output_type": "stream",
     "text": [
      "\u001b[1m2/2\u001b[0m \u001b[32m━━━━━━━━━━━━━━━━━━━━\u001b[0m\u001b[37m\u001b[0m \u001b[1m10s\u001b[0m 1s/step - accuracy: 0.0606 - loss: 9.1368 - val_accuracy: 0.2000 - val_loss: 8.7307\n",
      "Epoch 2/10\n",
      "\u001b[1m2/2\u001b[0m \u001b[32m━━━━━━━━━━━━━━━━━━━━\u001b[0m\u001b[37m\u001b[0m \u001b[1m1s\u001b[0m 300ms/step - accuracy: 0.3371 - loss: 8.3565 - val_accuracy: 0.2000 - val_loss: 8.3565\n",
      "Epoch 3/10\n",
      "\u001b[1m2/2\u001b[0m \u001b[32m━━━━━━━━━━━━━━━━━━━━\u001b[0m\u001b[37m\u001b[0m \u001b[1m0s\u001b[0m 200ms/step - accuracy: 0.3267 - loss: 7.9058 - val_accuracy: 0.2000 - val_loss: 7.9610\n",
      "Epoch 4/10\n",
      "\u001b[1m2/2\u001b[0m \u001b[32m━━━━━━━━━━━━━━━━━━━━\u001b[0m\u001b[37m\u001b[0m \u001b[1m1s\u001b[0m 440ms/step - accuracy: 0.3674 - loss: 7.4653 - val_accuracy: 0.2000 - val_loss: 7.5311\n",
      "Epoch 5/10\n",
      "\u001b[1m2/2\u001b[0m \u001b[32m━━━━━━━━━━━━━━━━━━━━\u001b[0m\u001b[37m\u001b[0m \u001b[1m0s\u001b[0m 129ms/step - accuracy: 0.3210 - loss: 7.0565 - val_accuracy: 0.2000 - val_loss: 7.0357\n",
      "Epoch 6/10\n",
      "\u001b[1m2/2\u001b[0m \u001b[32m━━━━━━━━━━━━━━━━━━━━\u001b[0m\u001b[37m\u001b[0m \u001b[1m1s\u001b[0m 345ms/step - accuracy: 0.3163 - loss: 6.6021 - val_accuracy: 0.2000 - val_loss: 6.5786\n",
      "Epoch 7/10\n",
      "\u001b[1m2/2\u001b[0m \u001b[32m━━━━━━━━━━━━━━━━━━━━\u001b[0m\u001b[37m\u001b[0m \u001b[1m1s\u001b[0m 362ms/step - accuracy: 0.3163 - loss: 6.1493 - val_accuracy: 0.2000 - val_loss: 6.1387\n",
      "Epoch 8/10\n",
      "\u001b[1m2/2\u001b[0m \u001b[32m━━━━━━━━━━━━━━━━━━━━\u001b[0m\u001b[37m\u001b[0m \u001b[1m0s\u001b[0m 125ms/step - accuracy: 0.3267 - loss: 5.6656 - val_accuracy: 0.2000 - val_loss: 5.6919\n",
      "Epoch 9/10\n",
      "\u001b[1m2/2\u001b[0m \u001b[32m━━━━━━━━━━━━━━━━━━━━\u001b[0m\u001b[37m\u001b[0m \u001b[1m0s\u001b[0m 177ms/step - accuracy: 0.3163 - loss: 5.1925 - val_accuracy: 0.2000 - val_loss: 5.2198\n",
      "Epoch 10/10\n",
      "\u001b[1m2/2\u001b[0m \u001b[32m━━━━━━━━━━━━━━━━━━━━\u001b[0m\u001b[37m\u001b[0m \u001b[1m0s\u001b[0m 186ms/step - accuracy: 0.3163 - loss: 4.6907 - val_accuracy: 0.2000 - val_loss: 4.7506\n"
     ]
    }
   ],
   "source": [
    "import pandas as pd\n",
    "import numpy as np\n",
    "import tensorflow as tf\n",
    "from tensorflow.keras.models import Model\n",
    "from tensorflow.keras.layers import (Embedding, Dense, LayerNormalization, MultiHeadAttention, Dropout)\n",
    "from tensorflow.keras.preprocessing.sequence import pad_sequences\n",
    "from sklearn.preprocessing import LabelEncoder, MinMaxScaler\n",
    "from tensorflow.keras.layers import Dropout\n",
    "\n",
    "# ===================== Fixing Sequence Length =====================\n",
    "max_seq_length = 49  # Ensure consistency in sequence lengths\n",
    "\n",
    "# Ensure all sequences are padded to max_seq_length\n",
    "train_sequences = pad_sequences(train_sequences, maxlen=max_seq_length, padding='post')\n",
    "train_labels = np.array(train_labels)  # Ensure labels are NumPy arrays\n",
    "\n",
    "\n",
    "# ===================== Transformer Block =====================\n",
    "class TransformerBlock(tf.keras.layers.Layer):\n",
    "    def __init__(self, embed_dim, num_heads, ff_dim, rate=0.1):\n",
    "        super(TransformerBlock, self).__init__()\n",
    "        self.attention = MultiHeadAttention(num_heads=num_heads, key_dim=embed_dim)\n",
    "        self.norm1 = LayerNormalization(epsilon=1e-6)\n",
    "        self.norm2 = LayerNormalization(epsilon=1e-6)\n",
    "        self.dense = tf.keras.Sequential([\n",
    "            Dense(ff_dim, activation=\"relu\"),\n",
    "            Dense(embed_dim),\n",
    "        ])\n",
    "        self.dropout1 = Dropout(rate)\n",
    "        self.dropout2 = Dropout(rate)\n",
    "\n",
    "    def call(self, inputs, mask=None):\n",
    "        if mask is not None:\n",
    "            # Ensure correct shape: (batch_size, 1, seq_length, seq_length)\n",
    "            mask = tf.cast(mask[:, tf.newaxis, tf.newaxis, :], dtype=tf.float32)\n",
    "\n",
    "        attn_output = self.attention(inputs, inputs, attention_mask=mask)\n",
    "        attn_output = self.dropout1(attn_output)\n",
    "        x = self.norm1(inputs + attn_output)\n",
    "        dense_output = self.dense(x)\n",
    "        dense_output = self.dropout2(dense_output)\n",
    "        return self.norm2(x + dense_output)\n",
    "\n",
    "\n",
    "# ===================== BERT4Rec Model =====================\n",
    "class BERT4Rec(Model):\n",
    "    def __init__(self, vocab_size, embed_dim, num_heads, ff_dim, num_blocks, max_len):\n",
    "        super(BERT4Rec, self).__init__()\n",
    "        self.item_embedding = Embedding(vocab_size, embed_dim, input_length=max_len)\n",
    "        self.position_embedding = Embedding(max_len, embed_dim)\n",
    "        self.transformer_blocks = [\n",
    "            TransformerBlock(embed_dim, num_heads, ff_dim) for _ in range(num_blocks)\n",
    "        ]\n",
    "        self.dense = Dense(vocab_size, activation=\"softmax\")\n",
    "\n",
    "    def call(self, inputs):\n",
    "        seq_length = tf.shape(inputs)[1]\n",
    "\n",
    "        positions = tf.range(start=0, limit=seq_length, delta=1)\n",
    "        positions = self.position_embedding(positions)\n",
    "\n",
    "        x = self.item_embedding(inputs) + positions\n",
    "        mask = tf.math.not_equal(inputs, 0)  # Mask padded values\n",
    "\n",
    "        for block in self.transformer_blocks:\n",
    "            x = block(x, mask)\n",
    "\n",
    "        return self.dense(x[:, -1, :])  # Predict next item\n",
    "\n",
    "\n",
    "# ===================== Compile & Train Model =====================\n",
    "vocab_size = 10000  # Adjust as per your dataset\n",
    "embed_dim = 128\n",
    "num_heads = 4\n",
    "ff_dim = 256\n",
    "num_blocks = 2\n",
    "\n",
    "bert4rec_model = BERT4Rec(vocab_size, embed_dim, num_heads, ff_dim, num_blocks, max_seq_length)\n",
    "bert4rec_model.compile(optimizer=\"adam\", loss=\"sparse_categorical_crossentropy\", metrics=[\"accuracy\"])\n",
    "\n",
    "# Train the model\n",
    "bert4rec_model.fit(train_sequences, train_labels, batch_size=32, epochs=10, validation_split=0.1)\n",
    "\n",
    "optimizer = tf.keras.optimizers.Adam(learning_rate=1e-4)\n",
    "bert4rec_model.compile(optimizer=optimizer, loss='sparse_categorical_crossentropy', metrics=['accuracy'])"
   ]
  },
  {
   "cell_type": "code",
   "execution_count": null,
   "id": "60d8c409-67a0-47f6-9974-b7ff0871f639",
   "metadata": {},
   "outputs": [],
   "source": []
  }
 ],
 "metadata": {
  "kernelspec": {
   "display_name": "Python 3 (ipykernel)",
   "language": "python",
   "name": "python3"
  },
  "language_info": {
   "codemirror_mode": {
    "name": "ipython",
    "version": 3
   },
   "file_extension": ".py",
   "mimetype": "text/x-python",
   "name": "python",
   "nbconvert_exporter": "python",
   "pygments_lexer": "ipython3",
   "version": "3.11.7"
  }
 },
 "nbformat": 4,
 "nbformat_minor": 5
}
